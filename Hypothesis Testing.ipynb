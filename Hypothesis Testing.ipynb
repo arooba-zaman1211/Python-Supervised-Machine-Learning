{
 "cells": [
  {
   "cell_type": "markdown",
   "id": "62130b6e",
   "metadata": {},
   "source": [
    "## Importing Libraries"
   ]
  },
  {
   "cell_type": "code",
   "execution_count": 1,
   "id": "8aea6e39",
   "metadata": {},
   "outputs": [],
   "source": [
    "import pandas as pd\n",
    "import matplotlib.pyplot as plt\n",
    "import numpy as np"
   ]
  },
  {
   "cell_type": "markdown",
   "id": "eeaa8fd6",
   "metadata": {},
   "source": [
    "## Loading the data"
   ]
  },
  {
   "cell_type": "code",
   "execution_count": 2,
   "id": "c4826b07",
   "metadata": {},
   "outputs": [],
   "source": [
    "import pandas as pd\n",
    "\n",
    "# Use a raw string to specify the file path\n",
    "file_path = r'C:/Users/HP/Downloads/4.10.Hypothesis-testing-section-practical-example.csv'\n",
    "\n",
    "# Read the CSV file\n",
    "df = pd.read_csv(file_path, skiprows = 3)\n",
    "\n",
    "# Now you can work with the 'df' DataFrame\n",
    "df.drop(['Unnamed: 0','Unnamed: 11'], axis = 1, inplace = True)"
   ]
  },
  {
   "cell_type": "code",
   "execution_count": 3,
   "id": "e2f6ee5c",
   "metadata": {},
   "outputs": [
    {
     "data": {
      "text/html": [
       "<div>\n",
       "<style scoped>\n",
       "    .dataframe tbody tr th:only-of-type {\n",
       "        vertical-align: middle;\n",
       "    }\n",
       "\n",
       "    .dataframe tbody tr th {\n",
       "        vertical-align: top;\n",
       "    }\n",
       "\n",
       "    .dataframe thead th {\n",
       "        text-align: right;\n",
       "    }\n",
       "</style>\n",
       "<table border=\"1\" class=\"dataframe\">\n",
       "  <thead>\n",
       "    <tr style=\"text-align: right;\">\n",
       "      <th></th>\n",
       "      <th>Surname</th>\n",
       "      <th>Name</th>\n",
       "      <th>Age</th>\n",
       "      <th>Gender</th>\n",
       "      <th>Country</th>\n",
       "      <th>Ethnicity</th>\n",
       "      <th>Start_date</th>\n",
       "      <th>Department</th>\n",
       "      <th>Position</th>\n",
       "      <th>Salary</th>\n",
       "    </tr>\n",
       "  </thead>\n",
       "  <tbody>\n",
       "    <tr>\n",
       "      <th>0</th>\n",
       "      <td>Bold</td>\n",
       "      <td>Caroline</td>\n",
       "      <td>63</td>\n",
       "      <td>Female</td>\n",
       "      <td>United States</td>\n",
       "      <td>White</td>\n",
       "      <td>7/2/2012</td>\n",
       "      <td>Executive Office</td>\n",
       "      <td>President &amp; CEO</td>\n",
       "      <td>$166,400.00</td>\n",
       "    </tr>\n",
       "    <tr>\n",
       "      <th>1</th>\n",
       "      <td>Zamora</td>\n",
       "      <td>Jennifer</td>\n",
       "      <td>38</td>\n",
       "      <td>Female</td>\n",
       "      <td>United States</td>\n",
       "      <td>White</td>\n",
       "      <td>4/10/2010</td>\n",
       "      <td>IT/IS</td>\n",
       "      <td>CIO</td>\n",
       "      <td>$135,200.00</td>\n",
       "    </tr>\n",
       "    <tr>\n",
       "      <th>2</th>\n",
       "      <td>Houlihan</td>\n",
       "      <td>Debra</td>\n",
       "      <td>51</td>\n",
       "      <td>Female</td>\n",
       "      <td>United States</td>\n",
       "      <td>White</td>\n",
       "      <td>5/5/2014</td>\n",
       "      <td>Sales</td>\n",
       "      <td>Director of Sales</td>\n",
       "      <td>$124,800.00</td>\n",
       "    </tr>\n",
       "    <tr>\n",
       "      <th>3</th>\n",
       "      <td>Bramante</td>\n",
       "      <td>Elisa</td>\n",
       "      <td>34</td>\n",
       "      <td>Female</td>\n",
       "      <td>United States</td>\n",
       "      <td>Black or African American</td>\n",
       "      <td>1/5/2009</td>\n",
       "      <td>Production</td>\n",
       "      <td>Director of Operations</td>\n",
       "      <td>$124,800.00</td>\n",
       "    </tr>\n",
       "    <tr>\n",
       "      <th>4</th>\n",
       "      <td>Del Bosque</td>\n",
       "      <td>Keyla</td>\n",
       "      <td>38</td>\n",
       "      <td>Female</td>\n",
       "      <td>United States</td>\n",
       "      <td>Black or African American</td>\n",
       "      <td>1/9/2012</td>\n",
       "      <td>Software Engineering</td>\n",
       "      <td>Software Engineer</td>\n",
       "      <td>$118,809.60</td>\n",
       "    </tr>\n",
       "    <tr>\n",
       "      <th>...</th>\n",
       "      <td>...</td>\n",
       "      <td>...</td>\n",
       "      <td>...</td>\n",
       "      <td>...</td>\n",
       "      <td>...</td>\n",
       "      <td>...</td>\n",
       "      <td>...</td>\n",
       "      <td>...</td>\n",
       "      <td>...</td>\n",
       "      <td>...</td>\n",
       "    </tr>\n",
       "    <tr>\n",
       "      <th>169</th>\n",
       "      <td>Osturnka</td>\n",
       "      <td>Adeel</td>\n",
       "      <td>41</td>\n",
       "      <td>Male</td>\n",
       "      <td>United States</td>\n",
       "      <td>White</td>\n",
       "      <td>9/30/2013</td>\n",
       "      <td>Production</td>\n",
       "      <td>Production Technician I</td>\n",
       "      <td>$33,280.00</td>\n",
       "    </tr>\n",
       "    <tr>\n",
       "      <th>170</th>\n",
       "      <td>Punjabhi</td>\n",
       "      <td>Louis</td>\n",
       "      <td>56</td>\n",
       "      <td>Male</td>\n",
       "      <td>United States</td>\n",
       "      <td>White</td>\n",
       "      <td>1/6/2014</td>\n",
       "      <td>Production</td>\n",
       "      <td>Production Technician I</td>\n",
       "      <td>$33,280.00</td>\n",
       "    </tr>\n",
       "    <tr>\n",
       "      <th>171</th>\n",
       "      <td>Cockel</td>\n",
       "      <td>James</td>\n",
       "      <td>40</td>\n",
       "      <td>Male</td>\n",
       "      <td>United States</td>\n",
       "      <td>White</td>\n",
       "      <td>7/8/2013</td>\n",
       "      <td>Production</td>\n",
       "      <td>Production Technician I</td>\n",
       "      <td>$31,200.00</td>\n",
       "    </tr>\n",
       "    <tr>\n",
       "      <th>172</th>\n",
       "      <td>Gordon</td>\n",
       "      <td>David</td>\n",
       "      <td>38</td>\n",
       "      <td>Male</td>\n",
       "      <td>United States</td>\n",
       "      <td>White</td>\n",
       "      <td>7/2/2012</td>\n",
       "      <td>Production</td>\n",
       "      <td>Production Technician I</td>\n",
       "      <td>$31,200.00</td>\n",
       "    </tr>\n",
       "    <tr>\n",
       "      <th>173</th>\n",
       "      <td>Knapp</td>\n",
       "      <td>Bradley J</td>\n",
       "      <td>40</td>\n",
       "      <td>Male</td>\n",
       "      <td>United States</td>\n",
       "      <td>Black or African American</td>\n",
       "      <td>2/17/2014</td>\n",
       "      <td>Production</td>\n",
       "      <td>Production Technician I</td>\n",
       "      <td>$29,120.00</td>\n",
       "    </tr>\n",
       "  </tbody>\n",
       "</table>\n",
       "<p>174 rows × 10 columns</p>\n",
       "</div>"
      ],
      "text/plain": [
       "        Surname       Name  Age  Gender        Country  \\\n",
       "0          Bold   Caroline   63  Female  United States   \n",
       "1        Zamora   Jennifer   38  Female  United States   \n",
       "2      Houlihan      Debra   51  Female  United States   \n",
       "3      Bramante      Elisa   34  Female  United States   \n",
       "4    Del Bosque      Keyla   38  Female  United States   \n",
       "..          ...        ...  ...     ...            ...   \n",
       "169    Osturnka      Adeel   41    Male  United States   \n",
       "170    Punjabhi      Louis   56    Male  United States   \n",
       "171      Cockel      James   40    Male  United States   \n",
       "172      Gordon      David   38    Male  United States   \n",
       "173       Knapp  Bradley J   40    Male  United States   \n",
       "\n",
       "                     Ethnicity Start_date            Department  \\\n",
       "0                        White   7/2/2012      Executive Office   \n",
       "1                        White  4/10/2010                 IT/IS   \n",
       "2                        White   5/5/2014                 Sales   \n",
       "3    Black or African American   1/5/2009     Production          \n",
       "4    Black or African American   1/9/2012  Software Engineering   \n",
       "..                         ...        ...                   ...   \n",
       "169                      White  9/30/2013     Production          \n",
       "170                      White   1/6/2014     Production          \n",
       "171                      White   7/8/2013     Production          \n",
       "172                      White   7/2/2012     Production          \n",
       "173  Black or African American  2/17/2014     Production          \n",
       "\n",
       "                    Position       Salary  \n",
       "0            President & CEO  $166,400.00  \n",
       "1                        CIO  $135,200.00  \n",
       "2          Director of Sales  $124,800.00  \n",
       "3     Director of Operations  $124,800.00  \n",
       "4          Software Engineer  $118,809.60  \n",
       "..                       ...          ...  \n",
       "169  Production Technician I   $33,280.00  \n",
       "170  Production Technician I   $33,280.00  \n",
       "171  Production Technician I   $31,200.00  \n",
       "172  Production Technician I   $31,200.00  \n",
       "173  Production Technician I   $29,120.00  \n",
       "\n",
       "[174 rows x 10 columns]"
      ]
     },
     "execution_count": 3,
     "metadata": {},
     "output_type": "execute_result"
    }
   ],
   "source": [
    "df"
   ]
  },
  {
   "cell_type": "markdown",
   "id": "f5a258b7",
   "metadata": {},
   "source": [
    "## Is the company baised? Is there any wage gap between genders?"
   ]
  },
  {
   "cell_type": "markdown",
   "id": "49e45b82",
   "metadata": {},
   "source": [
    "#### The company claims that there isn't any wage gap between genders so \n",
    "##### Ho : Do = 0\n",
    "##### H1 : Do is not equal to 0"
   ]
  },
  {
   "cell_type": "code",
   "execution_count": 4,
   "id": "9533b558",
   "metadata": {},
   "outputs": [
    {
     "name": "stdout",
     "output_type": "stream",
     "text": [
      "Total female employee: 98\n",
      "Total male employee: 76\n"
     ]
    }
   ],
   "source": [
    "# Separating the females from males \n",
    "\n",
    "females = pd.DataFrame()\n",
    "females = df[df['Gender'] == 'Female']\n",
    "print('Total female employee: {0}'.format(len(females)))\n",
    "\n",
    "males = pd.DataFrame()\n",
    "males = df[df['Gender'] == 'Male']\n",
    "print('Total male employee: {0}'.format(len(males)))"
   ]
  },
  {
   "cell_type": "code",
   "execution_count": 5,
   "id": "31f53c80",
   "metadata": {},
   "outputs": [],
   "source": [
    "# Cleaning the salary column in both new dataframes\n",
    "\n",
    "females.loc[:,'Salary'] = females['Salary'].str.replace(r'[\\$,]', '', regex = True).str.split('.').str.get(0)\n",
    "males.loc[:,'Salary'] = males['Salary'].str.replace(r'[\\$,]', '', regex = True).str.split('.').str.get(0)"
   ]
  },
  {
   "cell_type": "code",
   "execution_count": 6,
   "id": "309f42ee",
   "metadata": {},
   "outputs": [],
   "source": [
    "# Converting the data type of salary from object to numeric \n",
    "\n",
    "females.loc[:,'Salary'] = females['Salary'].astype(float)\n",
    "males.loc[:,'Salary'] = males['Salary'].astype(float)"
   ]
  },
  {
   "cell_type": "code",
   "execution_count": 12,
   "id": "8df81420",
   "metadata": {},
   "outputs": [
    {
     "name": "stdout",
     "output_type": "stream",
     "text": [
      "The population mean of females: 65736.88775510204\n",
      "The population mean of males: 72300.51315789473\n"
     ]
    }
   ],
   "source": [
    "# Calculating the mean salary of both the genders \n",
    "\n",
    "f_mean = females['Salary'].mean()\n",
    "m_mean = males['Salary'].mean()\n",
    "print('The population mean of females: {0}'.format(f_mean))\n",
    "print('The population mean of males: {0}'.format(m_mean))"
   ]
  },
  {
   "cell_type": "code",
   "execution_count": 16,
   "id": "3bc4b8ec",
   "metadata": {},
   "outputs": [
    {
     "name": "stdout",
     "output_type": "stream",
     "text": [
      "The population variance of females: 1097617147.1109824\n",
      "The population variance of males: 1241432517.293158\n"
     ]
    }
   ],
   "source": [
    "# Calculating the variances of both the genders\n",
    "\n",
    "v_female = females['Salary'].var(ddof = 1)\n",
    "v_male = males['Salary'].var(ddof = 1)\n",
    "print('The population variance of females: {0}'.format(v_female))\n",
    "print('The population variance of males: {0}'.format(v_male))"
   ]
  },
  {
   "cell_type": "code",
   "execution_count": 20,
   "id": "e13d1ee8",
   "metadata": {},
   "outputs": [
    {
     "data": {
      "text/plain": [
       "1160327337.5973961"
      ]
     },
     "execution_count": 20,
     "metadata": {},
     "output_type": "execute_result"
    }
   ],
   "source": [
    "# Calculating the pooled variance \n",
    "\n",
    "pooled_variance = ((len(females) -1)*v_female + (len(males) -1)*v_male)/(len(females) + len(males) - 2)\n",
    "pooled_variance"
   ]
  },
  {
   "cell_type": "code",
   "execution_count": 24,
   "id": "7f5970ed",
   "metadata": {},
   "outputs": [
    {
     "data": {
      "text/plain": [
       "-1.2606622108846948"
      ]
     },
     "execution_count": 24,
     "metadata": {},
     "output_type": "execute_result"
    }
   ],
   "source": [
    "# Now calculating the t score\n",
    "\n",
    "t_score = (f_mean - m_mean) / np.sqrt(pooled_variance * (1/len(females) + 1/len(males)))\n",
    "t_score"
   ]
  },
  {
   "cell_type": "code",
   "execution_count": 25,
   "id": "7f24594a",
   "metadata": {},
   "outputs": [],
   "source": [
    "import scipy.stats as stats"
   ]
  },
  {
   "cell_type": "code",
   "execution_count": 28,
   "id": "a775265c",
   "metadata": {},
   "outputs": [
    {
     "name": "stdout",
     "output_type": "stream",
     "text": [
      "p_value for this scenario: 0.10456901076481802\n"
     ]
    }
   ],
   "source": [
    "degree_of_freedom = len(females) + len(males) - 2\n",
    "p_value = stats.t.cdf(t_score, df = degree_of_freedom)\n",
    "print('p_value for this scenario: {0}'.format(p_value))"
   ]
  },
  {
   "cell_type": "markdown",
   "id": "2a982b95",
   "metadata": {},
   "source": [
    "#### The value concludes that the null hypothesis is not rejectable as it is greater than any of the testing percentages that is the value of alpha and thus there is not any wage gap in the company"
   ]
  },
  {
   "cell_type": "markdown",
   "id": "fd6269e5",
   "metadata": {},
   "source": [
    "## Lets calculate the confidence interval"
   ]
  },
  {
   "cell_type": "code",
   "execution_count": 34,
   "id": "cd7fe345",
   "metadata": {},
   "outputs": [
    {
     "name": "stdout",
     "output_type": "stream",
     "text": [
      "The upper bound of confidence interval is: -6236.666426456145\n",
      "The lower bound of confidence interval is: -6890.584379129238\n"
     ]
    }
   ],
   "source": [
    "# calculating value of t statistics for 95% confidence\n",
    "\n",
    "t_statistics = stats.t.ppf(1 - (1 - 0.05)/2, df = degree_of_freedom)\n",
    "\n",
    "lower_bound = (f_mean - m_mean) - (t_statistics * (np.sqrt(pooled_variance * (1/len(females) + 1/len(males)))))\n",
    "upper_bound = (f_mean - m_mean) + (t_statistics * (np.sqrt(pooled_variance * (1/len(females) + 1/len(males)))))\n",
    "\n",
    "print('The upper bound of confidence interval is: {0}'.format(upper_bound))\n",
    "print('The lower bound of confidence interval is: {0}'.format(lower_bound))"
   ]
  },
  {
   "cell_type": "markdown",
   "id": "140d589e",
   "metadata": {},
   "source": []
  },
  {
   "cell_type": "code",
   "execution_count": null,
   "id": "53c6f231",
   "metadata": {},
   "outputs": [],
   "source": []
  }
 ],
 "metadata": {
  "kernelspec": {
   "display_name": "Python 3 (ipykernel)",
   "language": "python",
   "name": "python3"
  },
  "language_info": {
   "codemirror_mode": {
    "name": "ipython",
    "version": 3
   },
   "file_extension": ".py",
   "mimetype": "text/x-python",
   "name": "python",
   "nbconvert_exporter": "python",
   "pygments_lexer": "ipython3",
   "version": "3.11.4"
  }
 },
 "nbformat": 4,
 "nbformat_minor": 5
}
